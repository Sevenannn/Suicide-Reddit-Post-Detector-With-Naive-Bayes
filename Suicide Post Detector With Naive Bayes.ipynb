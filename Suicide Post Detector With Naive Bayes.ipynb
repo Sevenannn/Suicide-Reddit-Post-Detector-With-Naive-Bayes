{
 "cells": [
  {
   "cell_type": "markdown",
   "id": "e1aeffe7",
   "metadata": {},
   "source": [
    "# Naive Bayes For Suicide and Depression Posts Detection"
   ]
  },
  {
   "cell_type": "markdown",
   "id": "d5f7905b",
   "metadata": {},
   "source": [
    "## Description about dataset"
   ]
  },
  {
   "cell_type": "markdown",
   "id": "9363e263",
   "metadata": {},
   "source": [
    "* This dataset, Suicide_Detection dataset, is a collection of reddit posts from \"SuicideWatch\" and \"depression\" subreddits of the Reddit platform. \n",
    "* It mainly contains two features: the original text of the posts, and whether this post contains a suicide tendency.\n",
    "* This dataset is found on Kaggle. Reddit posts in this dataset were originally using Pushshift API. \n",
    "* All posts that were made to \"SuicideWatch\" from Dec 16, 2008(creation) till Jan 2, 2021, were collected while \"depression\" posts were collected from Jan 1, 2009, to Jan 2, 2021.\n",
    "* There are two classes in this dataset: suicide refers to the Reddit posts that contains a suicide tendancy, while non-suicide refers to the normal Reddit posts\n",
    "* The reason why I choose this dataset is that, if we are able to build a effective classifier that detect people's suicide tendancy through their online posts, we might help intervene these people in a timely manner and prevent them from committing suicide, which I believe is rather meaningful."
   ]
  },
  {
   "cell_type": "markdown",
   "id": "de50c65d",
   "metadata": {},
   "source": [
    "The source of this dataset can be found through this link: https://www.kaggle.com/datasets/nikhileswarkomati/suicide-watch"
   ]
  },
  {
   "cell_type": "markdown",
   "id": "a4ef0d6c",
   "metadata": {},
   "source": [
    "## Research Question & Goal"
   ]
  },
  {
   "cell_type": "markdown",
   "id": "38231f89",
   "metadata": {},
   "source": [
    "* Research Question: Build a supervised machine learning model and conduct classification on the original texts of reddit posts, predict whether a reddit post belongs to the 'suicide' or 'non-suicide' category\n",
    "* Goal: Hopefully we can build a model that can effectively predict whether a reddit post contains any suicide tendency, so that we might help interfere and prevent their posters from committing suicide in the future"
   ]
  },
  {
   "cell_type": "markdown",
   "id": "49addbee",
   "metadata": {},
   "source": [
    "## Why Naive Bayes?"
   ]
  },
  {
   "cell_type": "markdown",
   "id": "530ff585",
   "metadata": {},
   "source": [
    "* Naive Bayes is based on Bayes Theorem, which provides conditional probability of the occurence of the two targetting events: \"non-suicide\" and \"suicide\" based on the probability of occurence of each individual words. \n",
    "* Naive Bayes assumes that each word is independent from each other, which largely simplify the computation process.\n",
    "* Therefore, Naive Bayes is a good way of answering the research question"
   ]
  },
  {
   "cell_type": "markdown",
   "id": "87c55c4f",
   "metadata": {},
   "source": [
    "## Modeling with Naive Bayes"
   ]
  },
  {
   "cell_type": "markdown",
   "id": "67159c6d",
   "metadata": {},
   "source": [
    "Read in the data and conduct exploratory analysis"
   ]
  },
  {
   "cell_type": "code",
   "execution_count": 1,
   "id": "ffa8204f",
   "metadata": {},
   "outputs": [
    {
     "data": {
      "text/html": [
       "<div>\n",
       "<style scoped>\n",
       "    .dataframe tbody tr th:only-of-type {\n",
       "        vertical-align: middle;\n",
       "    }\n",
       "\n",
       "    .dataframe tbody tr th {\n",
       "        vertical-align: top;\n",
       "    }\n",
       "\n",
       "    .dataframe thead th {\n",
       "        text-align: right;\n",
       "    }\n",
       "</style>\n",
       "<table border=\"1\" class=\"dataframe\">\n",
       "  <thead>\n",
       "    <tr style=\"text-align: right;\">\n",
       "      <th></th>\n",
       "      <th>text</th>\n",
       "      <th>class</th>\n",
       "    </tr>\n",
       "  </thead>\n",
       "  <tbody>\n",
       "    <tr>\n",
       "      <th>2</th>\n",
       "      <td>Ex Wife Threatening SuicideRecently I left my ...</td>\n",
       "      <td>suicide</td>\n",
       "    </tr>\n",
       "    <tr>\n",
       "      <th>3</th>\n",
       "      <td>Am I weird I don't get affected by compliments...</td>\n",
       "      <td>non-suicide</td>\n",
       "    </tr>\n",
       "    <tr>\n",
       "      <th>4</th>\n",
       "      <td>Finally 2020 is almost over... So I can never ...</td>\n",
       "      <td>non-suicide</td>\n",
       "    </tr>\n",
       "    <tr>\n",
       "      <th>8</th>\n",
       "      <td>i need helpjust help me im crying so hard</td>\n",
       "      <td>suicide</td>\n",
       "    </tr>\n",
       "    <tr>\n",
       "      <th>9</th>\n",
       "      <td>I’m so lostHello, my name is Adam (16) and I’v...</td>\n",
       "      <td>suicide</td>\n",
       "    </tr>\n",
       "  </tbody>\n",
       "</table>\n",
       "</div>"
      ],
      "text/plain": [
       "                                                text        class\n",
       "2  Ex Wife Threatening SuicideRecently I left my ...      suicide\n",
       "3  Am I weird I don't get affected by compliments...  non-suicide\n",
       "4  Finally 2020 is almost over... So I can never ...  non-suicide\n",
       "8          i need helpjust help me im crying so hard      suicide\n",
       "9  I’m so lostHello, my name is Adam (16) and I’v...      suicide"
      ]
     },
     "execution_count": 1,
     "metadata": {},
     "output_type": "execute_result"
    }
   ],
   "source": [
    "import pandas as pd\n",
    "import numpy as np\n",
    "import matplotlib.pyplot as plt\n",
    "\n",
    "df = pd.read_csv('Suicide_Detection.csv', index_col = 0)\n",
    "df.head()"
   ]
  },
  {
   "cell_type": "code",
   "execution_count": 2,
   "id": "23d49d21",
   "metadata": {},
   "outputs": [
    {
     "data": {
      "text/html": [
       "<div>\n",
       "<style scoped>\n",
       "    .dataframe tbody tr th:only-of-type {\n",
       "        vertical-align: middle;\n",
       "    }\n",
       "\n",
       "    .dataframe tbody tr th {\n",
       "        vertical-align: top;\n",
       "    }\n",
       "\n",
       "    .dataframe thead th {\n",
       "        text-align: right;\n",
       "    }\n",
       "</style>\n",
       "<table border=\"1\" class=\"dataframe\">\n",
       "  <thead>\n",
       "    <tr style=\"text-align: right;\">\n",
       "      <th></th>\n",
       "      <th>text</th>\n",
       "      <th>class</th>\n",
       "    </tr>\n",
       "  </thead>\n",
       "  <tbody>\n",
       "    <tr>\n",
       "      <th>count</th>\n",
       "      <td>232074</td>\n",
       "      <td>232074</td>\n",
       "    </tr>\n",
       "    <tr>\n",
       "      <th>unique</th>\n",
       "      <td>232074</td>\n",
       "      <td>2</td>\n",
       "    </tr>\n",
       "    <tr>\n",
       "      <th>top</th>\n",
       "      <td>Ex Wife Threatening SuicideRecently I left my ...</td>\n",
       "      <td>suicide</td>\n",
       "    </tr>\n",
       "    <tr>\n",
       "      <th>freq</th>\n",
       "      <td>1</td>\n",
       "      <td>116037</td>\n",
       "    </tr>\n",
       "  </tbody>\n",
       "</table>\n",
       "</div>"
      ],
      "text/plain": [
       "                                                     text    class\n",
       "count                                              232074   232074\n",
       "unique                                             232074        2\n",
       "top     Ex Wife Threatening SuicideRecently I left my ...  suicide\n",
       "freq                                                    1   116037"
      ]
     },
     "execution_count": 2,
     "metadata": {},
     "output_type": "execute_result"
    }
   ],
   "source": [
    "# The dataset contains two variables / columns\n",
    "# text: posts from reddit\n",
    "# class: Whether the text contains suicide ideation\n",
    "df.describe()"
   ]
  },
  {
   "cell_type": "code",
   "execution_count": 3,
   "id": "9c178d50",
   "metadata": {},
   "outputs": [
    {
     "name": "stdout",
     "output_type": "stream",
     "text": [
      "                  0\n",
      "class              \n",
      "non-suicide  116037\n",
      "suicide      116037\n"
     ]
    },
    {
     "data": {
      "image/png": "[encoded data removed]",
      "text/plain": [
       "<Figure size 640x480 with 1 Axes>"
      ]
     },
     "metadata": {},
     "output_type": "display_data"
    }
   ],
   "source": [
    "# Half of the text data in the dataset contains suicide tendency, while the other half do not\n",
    "df_type = pd.DataFrame(df.groupby('class').size())\n",
    "print(df_type)\n",
    "\n",
    "plt.bar(df_type.index, df_type[0])\n",
    "plt.show()"
   ]
  },
  {
   "cell_type": "markdown",
   "id": "c70dd321",
   "metadata": {},
   "source": [
    "Conduct data cleaning"
   ]
  },
  {
   "cell_type": "code",
   "execution_count": 4,
   "id": "aaa91bbd",
   "metadata": {},
   "outputs": [
    {
     "data": {
      "text/html": [
       "<div>\n",
       "<style scoped>\n",
       "    .dataframe tbody tr th:only-of-type {\n",
       "        vertical-align: middle;\n",
       "    }\n",
       "\n",
       "    .dataframe tbody tr th {\n",
       "        vertical-align: top;\n",
       "    }\n",
       "\n",
       "    .dataframe thead th {\n",
       "        text-align: right;\n",
       "    }\n",
       "</style>\n",
       "<table border=\"1\" class=\"dataframe\">\n",
       "  <thead>\n",
       "    <tr style=\"text-align: right;\">\n",
       "      <th></th>\n",
       "      <th>text</th>\n",
       "      <th>class</th>\n",
       "    </tr>\n",
       "  </thead>\n",
       "  <tbody>\n",
       "    <tr>\n",
       "      <th>2</th>\n",
       "      <td>Ex Wife Threatening SuicideRecently I left my ...</td>\n",
       "      <td>1</td>\n",
       "    </tr>\n",
       "    <tr>\n",
       "      <th>3</th>\n",
       "      <td>Am I weird I don't get affected by compliments...</td>\n",
       "      <td>0</td>\n",
       "    </tr>\n",
       "    <tr>\n",
       "      <th>4</th>\n",
       "      <td>Finally 2020 is almost over... So I can never ...</td>\n",
       "      <td>0</td>\n",
       "    </tr>\n",
       "    <tr>\n",
       "      <th>8</th>\n",
       "      <td>i need helpjust help me im crying so hard</td>\n",
       "      <td>1</td>\n",
       "    </tr>\n",
       "    <tr>\n",
       "      <th>9</th>\n",
       "      <td>I’m so lostHello, my name is Adam (16) and I’v...</td>\n",
       "      <td>1</td>\n",
       "    </tr>\n",
       "  </tbody>\n",
       "</table>\n",
       "</div>"
      ],
      "text/plain": [
       "                                                text  class\n",
       "2  Ex Wife Threatening SuicideRecently I left my ...      1\n",
       "3  Am I weird I don't get affected by compliments...      0\n",
       "4  Finally 2020 is almost over... So I can never ...      0\n",
       "8          i need helpjust help me im crying so hard      1\n",
       "9  I’m so lostHello, my name is Adam (16) and I’v...      1"
      ]
     },
     "execution_count": 4,
     "metadata": {},
     "output_type": "execute_result"
    }
   ],
   "source": [
    "# Standardize class column: 1 -- suicide, 0 -- non-suicide\n",
    "df.loc[df['class'] == 'non-suicide', ['class']] = 0\n",
    "df.loc[df['class'] == 'suicide', ['class']] = 1\n",
    "df['class'] = df['class'].astype('int')\n",
    "df.head()"
   ]
  },
  {
   "cell_type": "code",
   "execution_count": 5,
   "id": "e45b73a3",
   "metadata": {
    "scrolled": true
   },
   "outputs": [
    {
     "data": {
      "text/html": [
       "<div>\n",
       "<style scoped>\n",
       "    .dataframe tbody tr th:only-of-type {\n",
       "        vertical-align: middle;\n",
       "    }\n",
       "\n",
       "    .dataframe tbody tr th {\n",
       "        vertical-align: top;\n",
       "    }\n",
       "\n",
       "    .dataframe thead th {\n",
       "        text-align: right;\n",
       "    }\n",
       "</style>\n",
       "<table border=\"1\" class=\"dataframe\">\n",
       "  <thead>\n",
       "    <tr style=\"text-align: right;\">\n",
       "      <th></th>\n",
       "      <th>text</th>\n",
       "      <th>class</th>\n",
       "    </tr>\n",
       "  </thead>\n",
       "  <tbody>\n",
       "    <tr>\n",
       "      <th>2</th>\n",
       "      <td>ex wife threatening suiciderecently left wife ...</td>\n",
       "      <td>1</td>\n",
       "    </tr>\n",
       "    <tr>\n",
       "      <th>3</th>\n",
       "      <td>weird get affected compliment coming someone k...</td>\n",
       "      <td>0</td>\n",
       "    </tr>\n",
       "    <tr>\n",
       "      <th>4</th>\n",
       "      <td>finally almost never hear bad year ever swear ...</td>\n",
       "      <td>0</td>\n",
       "    </tr>\n",
       "    <tr>\n",
       "      <th>8</th>\n",
       "      <td>need helpjust help im cry hard</td>\n",
       "      <td>1</td>\n",
       "    </tr>\n",
       "    <tr>\n",
       "      <th>9</th>\n",
       "      <td>losthello name adam struggling year afraid pas...</td>\n",
       "      <td>1</td>\n",
       "    </tr>\n",
       "  </tbody>\n",
       "</table>\n",
       "</div>"
      ],
      "text/plain": [
       "                                                text  class\n",
       "2  ex wife threatening suiciderecently left wife ...      1\n",
       "3  weird get affected compliment coming someone k...      0\n",
       "4  finally almost never hear bad year ever swear ...      0\n",
       "8                     need helpjust help im cry hard      1\n",
       "9  losthello name adam struggling year afraid pas...      1"
      ]
     },
     "execution_count": 5,
     "metadata": {},
     "output_type": "execute_result"
    }
   ],
   "source": [
    "# Clean the text data\n",
    "import nltk\n",
    "import re, string\n",
    "import copy\n",
    "from nltk.corpus import stopwords\n",
    "from nltk.tokenize import word_tokenize\n",
    "from nltk.corpus import wordnet\n",
    "from nltk.stem.wordnet import WordNetLemmatizer\n",
    "\n",
    "stopwords_list = stopwords.words('english')\n",
    "tokenizer = nltk.RegexpTokenizer(r\"\\w+\")\n",
    "lmtzr = WordNetLemmatizer()\n",
    "\n",
    "def clean_text(row):\n",
    "    row = row.lower() # convert data into lower case\n",
    "    row = re.sub(r\"_\",'', row) # remove underscore\n",
    "    row = re.sub(r'http\\S+', '', row) #remove urls\n",
    "    row = re.sub(r\"(?<![@\\w])@(\\w{1,25})\", '', row) #remove mentions\n",
    "    row = re.sub(r\"<[^>]+>\", '', row) # remove carrot inserts from collection \n",
    "    row = re.sub(r'[0-9]', '', row) # remove numbers\n",
    "    row = tokenizer.tokenize(row)# Tokenize the row\n",
    "    row = [w for w in row if w not in stopwords_list] # Remove stopwords\n",
    "    row = [lmtzr.lemmatize(token) for token in row] # Lemmatize the words\n",
    "    row = ' '.join(row)\n",
    "    return row\n",
    "\n",
    "data = copy.deepcopy(df)\n",
    "df['text'] = df['text'].apply(clean_text)\n",
    "df.head()"
   ]
  },
  {
   "cell_type": "code",
   "execution_count": 6,
   "id": "6cf2a74a",
   "metadata": {},
   "outputs": [],
   "source": [
    "# Conduct a train-test split\n",
    "from sklearn.model_selection import train_test_split\n",
    "\n",
    "X = df.drop(columns = 'class')\n",
    "y = df['class']\n",
    "X_train, X_test, y_train, y_test = train_test_split(X, y, random_state=20)"
   ]
  },
  {
   "cell_type": "code",
   "execution_count": 7,
   "id": "e8834a02",
   "metadata": {},
   "outputs": [
    {
     "name": "stdout",
     "output_type": "stream",
     "text": [
      "                                                     text\n",
      "107860  im going kill needed relese iner pain somwhere...\n",
      "52259   turn next monthwhen high school told life get ...\n",
      "315013  psychotic kid know want psychotic kid got keep...\n",
      "179701  cut tonightvery unhappy mostly fault looking w...\n",
      "322237  boy get much attention girl mean girl get much...\n",
      "103493  good god help mei provide proof birthday janua...\n",
      "202239  truman burbanki psychotic schizoeffective lega...\n",
      "99998   life meaningless ur isolatedbecause mental hea...\n",
      "191443  school shooting right watching anthony padilla...\n",
      "84809   brother room smell like foot whenever go broth...\n",
      "107860    1\n",
      "52259     1\n",
      "315013    0\n",
      "179701    1\n",
      "322237    0\n",
      "103493    1\n",
      "202239    1\n",
      "99998     1\n",
      "191443    0\n",
      "84809     0\n",
      "Name: class, dtype: int32\n"
     ]
    }
   ],
   "source": [
    "print(X_train.head(10))\n",
    "print(y_train.head(10))"
   ]
  },
  {
   "cell_type": "markdown",
   "id": "3deb746a",
   "metadata": {},
   "source": [
    "Extract features to Naive Bayes Classifier with TF-IDF vectorizer"
   ]
  },
  {
   "cell_type": "code",
   "execution_count": 8,
   "id": "4b8cc158",
   "metadata": {},
   "outputs": [],
   "source": [
    "from scipy import sparse\n",
    "from sklearn.feature_extraction.text import TfidfVectorizer\n",
    "from sklearn.feature_extraction.text import TfidfTransformer\n",
    "\n",
    "stopwords_list = stopwords.words('english')\n",
    "tfidf = TfidfVectorizer(stop_words = stopwords_list,ngram_range = (1, 2))\n",
    "\n",
    "tfidf_text_train = tfidf.fit_transform(X_train['text'])\n",
    "tfidf_text_test = tfidf.transform(X_test['text'])\n",
    "\n",
    "X_train = sparse.hstack([tfidf_text_train]).tocsr()\n",
    "X_test = sparse.hstack([tfidf_text_test]).tocsr()"
   ]
  },
  {
   "cell_type": "markdown",
   "id": "f8320546",
   "metadata": {},
   "source": [
    "Create a dataframe for holding model evaluation results"
   ]
  },
  {
   "cell_type": "code",
   "execution_count": 9,
   "id": "b4e407fc",
   "metadata": {},
   "outputs": [],
   "source": [
    "res = pd.DataFrame(columns = ['model', 'accuracy', 'f1_score'])"
   ]
  },
  {
   "cell_type": "markdown",
   "id": "48c5e071",
   "metadata": {},
   "source": [
    "Conduct modeling using Multinomial Naive Bayes Model, with alpha = 0.05"
   ]
  },
  {
   "cell_type": "code",
   "execution_count": 10,
   "id": "8ad8ebc3",
   "metadata": {},
   "outputs": [
    {
     "name": "stdout",
     "output_type": "stream",
     "text": [
      "0.9859239895435351\n",
      "0.9034626587841914\n",
      "0.9103624869968793\n"
     ]
    }
   ],
   "source": [
    "# Conduct modeling using Naive Bayes Model\n",
    "from sklearn.naive_bayes import MultinomialNB\n",
    "from sklearn.metrics import classification_report, f1_score, accuracy_score, confusion_matrix, recall_score\n",
    "\n",
    "nb_classifier = MultinomialNB(alpha = .05)\n",
    "\n",
    "nb_classifier.fit(X_train, y_train)\n",
    "\n",
    "nb_train_preds = nb_classifier.predict(X_train)\n",
    "nb_test_preds = nb_classifier.predict(X_test)\n",
    "\n",
    "res = pd.concat([res, \n",
    "         pd.DataFrame([{\"model\":\"Benchmark Model\",\n",
    "            \"accuracy\":accuracy_score(y_test,nb_test_preds),\n",
    "            \"f1_score\":f1_score(y_test,nb_test_preds)}])])\n",
    "\n",
    "print(accuracy_score(y_train,nb_train_preds))\n",
    "print(accuracy_score(y_test,nb_test_preds))\n",
    "print(f1_score(y_test,nb_test_preds))"
   ]
  },
  {
   "cell_type": "markdown",
   "id": "f51457d5",
   "metadata": {},
   "source": [
    "## Visualizations & Findings"
   ]
  },
  {
   "cell_type": "markdown",
   "id": "f009c442",
   "metadata": {},
   "source": [
    "* The visualization includes a text classification report and a graph of confusion matrix of our test result.\n",
    "* The classification report shows that we are having a really high true positive rate (0.98 recall of class 1)\n",
    "* The confusion matrix indicates that we have a lot of false positive predictions( non-suicide posts being classified as suicide posts) compared with false negative (suicide posts being classified as non-suicide), which is, a expected result. Since this model should be prioritized minimize false negative, which means that we avoid failing to identify those with suicide tendancy and really needs help. "
   ]
  },
  {
   "cell_type": "code",
   "execution_count": 11,
   "id": "1c0fb09e",
   "metadata": {},
   "outputs": [
    {
     "name": "stdout",
     "output_type": "stream",
     "text": [
      "              precision    recall  f1-score   support\n",
      "\n",
      "           0       0.97      0.83      0.90     28956\n",
      "           1       0.85      0.98      0.91     29063\n",
      "\n",
      "    accuracy                           0.90     58019\n",
      "   macro avg       0.91      0.90      0.90     58019\n",
      "weighted avg       0.91      0.90      0.90     58019\n",
      "\n"
     ]
    }
   ],
   "source": [
    "print(classification_report(y_test,nb_test_preds))"
   ]
  },
  {
   "cell_type": "code",
   "execution_count": 12,
   "id": "7b7c3449",
   "metadata": {},
   "outputs": [
    {
     "data": {
      "image/png": "[encoded data removed]",
      "text/plain": [
       "<Figure size 640x480 with 1 Axes>"
      ]
     },
     "metadata": {},
     "output_type": "display_data"
    }
   ],
   "source": [
    "import seaborn as sns\n",
    "sns.set()\n",
    "\n",
    "cm_dc = confusion_matrix(y_test, nb_test_preds)\n",
    "sns.set(font_scale=1.3)\n",
    "sns.heatmap(cm_dc.T, square=True, annot=True, fmt='d', cbar=False,cmap=\"inferno\", xticklabels=['non-suicide','suicide'],yticklabels=['non-suicide','suicide']\n",
    "            )\n",
    "plt.tight_layout()\n",
    "plt.title('Confusion Matrix On Test Result, TF-IDF Text Embedding & MultinomialNB(alpha = .05)')\n",
    "plt.xlabel('true label')\n",
    "plt.ylabel('predicted label')\n",
    "plt.show()"
   ]
  },
  {
   "cell_type": "markdown",
   "id": "d8a73c48",
   "metadata": {},
   "source": [
    "## Trials For Improving The Model"
   ]
  },
  {
   "cell_type": "markdown",
   "id": "3effb77a",
   "metadata": {},
   "source": [
    "Note: Four different approaches have been tried in this section, including changes in model parameter, text preprocessing approach, dimension reduction in input data, and advanced word embedding."
   ]
  },
  {
   "cell_type": "markdown",
   "id": "4e36e326",
   "metadata": {},
   "source": [
    "## Trial 0: Adjust alpha (laplace smoothing parameter)"
   ]
  },
  {
   "cell_type": "markdown",
   "id": "504fdb2d",
   "metadata": {},
   "source": [
    "Result:\n",
    "* The result shows that alpha = 0.03 gives a slightly better result, which can be seen from the increase in f1-score as well as test accuracy"
   ]
  },
  {
   "cell_type": "code",
   "execution_count": 13,
   "id": "9a074438",
   "metadata": {},
   "outputs": [
    {
     "name": "stdout",
     "output_type": "stream",
     "text": [
      "0.9826606532417914\n",
      "0.90146331374205\n",
      "0.9088037773772113\n"
     ]
    }
   ],
   "source": [
    "# alpha = 0.07\n",
    "nb_classifier = MultinomialNB(alpha = .07)\n",
    "\n",
    "nb_classifier.fit(X_train, y_train)\n",
    "\n",
    "nb_train_preds = nb_classifier.predict(X_train)\n",
    "nb_test_preds = nb_classifier.predict(X_test)\n",
    "\n",
    "res = pd.concat([res, \n",
    "         pd.DataFrame([{\"model\":\"Benchmark Model, alpha = 0.07\",\n",
    "            \"accuracy\":accuracy_score(y_test,nb_test_preds),\n",
    "            \"f1_score\":f1_score(y_test,nb_test_preds)}])])\n",
    "\n",
    "print(accuracy_score(y_train,nb_train_preds))\n",
    "print(accuracy_score(y_test,nb_test_preds))\n",
    "print(f1_score(y_test,nb_test_preds))"
   ]
  },
  {
   "cell_type": "code",
   "execution_count": 14,
   "id": "3b64f4f6",
   "metadata": {},
   "outputs": [
    {
     "name": "stdout",
     "output_type": "stream",
     "text": [
      "0.9891241274309844\n",
      "0.9039797307778487\n",
      "0.9107569082899478\n"
     ]
    }
   ],
   "source": [
    "# alpha = 0.03\n",
    "nb_classifier = MultinomialNB(alpha = .03)\n",
    "\n",
    "nb_classifier.fit(X_train, y_train)\n",
    "\n",
    "nb_train_preds = nb_classifier.predict(X_train)\n",
    "nb_test_preds = nb_classifier.predict(X_test)\n",
    "\n",
    "res = pd.concat([res, \n",
    "         pd.DataFrame([{\"model\":\"Benchmark Model, alpha = 0.03\",\n",
    "            \"accuracy\":accuracy_score(y_test,nb_test_preds),\n",
    "            \"f1_score\":f1_score(y_test,nb_test_preds)}])])\n",
    "\n",
    "print(accuracy_score(y_train,nb_train_preds))\n",
    "print(accuracy_score(y_test,nb_test_preds))\n",
    "print(f1_score(y_test,nb_test_preds))"
   ]
  },
  {
   "cell_type": "code",
   "execution_count": 15,
   "id": "e23d72d9",
   "metadata": {},
   "outputs": [
    {
     "name": "stdout",
     "output_type": "stream",
     "text": [
      "0.9922208497314068\n",
      "0.8975508023233768\n",
      "0.90540755593749\n"
     ]
    }
   ],
   "source": [
    "# alpha = 0.01\n",
    "# When alpha = 0.01, model seems to overfit the test data\n",
    "nb_classifier = MultinomialNB(alpha = .01)\n",
    "\n",
    "nb_classifier.fit(X_train, y_train)\n",
    "\n",
    "nb_train_preds = nb_classifier.predict(X_train)\n",
    "nb_test_preds = nb_classifier.predict(X_test)\n",
    "\n",
    "res = pd.concat([res, \n",
    "         pd.DataFrame([{\"model\":\"Benchmark Model, alpha = 0.01\",\n",
    "            \"accuracy\":accuracy_score(y_test,nb_test_preds),\n",
    "            \"f1_score\":f1_score(y_test,nb_test_preds)}])])\n",
    "\n",
    "print(accuracy_score(y_train,nb_train_preds))\n",
    "print(accuracy_score(y_test,nb_test_preds))\n",
    "print(f1_score(y_test,nb_test_preds))"
   ]
  },
  {
   "cell_type": "markdown",
   "id": "33663b2b",
   "metadata": {},
   "source": [
    "## Trial 1: Adjust the pre-processing approach"
   ]
  },
  {
   "cell_type": "markdown",
   "id": "3d6d6bab",
   "metadata": {},
   "source": [
    "* Instead of using a lemmatizer, use a stemming method when pre-processing the data"
   ]
  },
  {
   "cell_type": "markdown",
   "id": "6ab0f6a5",
   "metadata": {},
   "source": [
    "Result:\n",
    "* Compared using accuracy and f1 score, lemmatizer gives a slightly better accuracy and f1 score compared with stemming."
   ]
  },
  {
   "cell_type": "code",
   "execution_count": 16,
   "id": "a63e8871",
   "metadata": {},
   "outputs": [],
   "source": [
    "from nltk.stem import *\n",
    "stemmer = PorterStemmer()\n",
    "\n",
    "def clean_text1(row):\n",
    "    row = row.lower() # convert data into lower case\n",
    "    row = re.sub(r\"_\",'', row) # remove hyphens\n",
    "    row = re.sub(r'http\\S+', '', row) #remove urls\n",
    "    row = re.sub(r\"(?<![@\\w])@(\\w{1,25})\", '', row) #remove mentions\n",
    "    row = re.sub(r\"<[^>]+>\", '', row) # remove carrot inserts from collection\n",
    "    row = re.sub(r'[0-9]', '', row) # remove numbers\n",
    "    row = tokenizer.tokenize(row)# Tokenize the row\n",
    "    row = [w for w in row if w not in stopwords_list] # Remove stopwords\n",
    "    row = [stemmer.stem(token) for token in row] # Lemmatize the words\n",
    "    row = ' '.join(row)\n",
    "    return row\n",
    "\n",
    "data1 = copy.deepcopy(data)\n",
    "data['text'] = data['text'].apply(clean_text1)"
   ]
  },
  {
   "cell_type": "code",
   "execution_count": 17,
   "id": "b9f78dcd",
   "metadata": {},
   "outputs": [],
   "source": [
    "X1 = data.drop(columns = 'class')\n",
    "y1 = data['class']\n",
    "X_train1, X_test1, y_train1, y_test1 = train_test_split(X1, y1, random_state=20)"
   ]
  },
  {
   "cell_type": "code",
   "execution_count": 18,
   "id": "a66e9bb9",
   "metadata": {},
   "outputs": [
    {
     "name": "stdout",
     "output_type": "stream",
     "text": [
      "0.9810864381948234\n",
      "0.903531601716679\n",
      "0.9103518972338347\n"
     ]
    }
   ],
   "source": [
    "stopwords_list = stopwords.words('english')\n",
    "tfidf = TfidfVectorizer(stop_words = stopwords_list,ngram_range = (1, 2))\n",
    "\n",
    "tfidf_text_train1 = tfidf.fit_transform(X_train1['text'])\n",
    "tfidf_text_test1 = tfidf.transform(X_test1['text'])\n",
    "\n",
    "X_train1 = sparse.hstack([tfidf_text_train1]).tocsr()\n",
    "X_test1 = sparse.hstack([tfidf_text_test1]).tocsr()\n",
    "\n",
    "nb_classifier = MultinomialNB(alpha = .05)\n",
    "nb_classifier.fit(X_train1, y_train1)\n",
    "\n",
    "nb_train_preds1 = nb_classifier.predict(X_train1)\n",
    "nb_test_preds1 = nb_classifier.predict(X_test1)\n",
    "\n",
    "res = pd.concat([res, \n",
    "         pd.DataFrame([{\"model\":\"Stemming, Benchmark model\",\n",
    "            \"accuracy\":accuracy_score(y_test,nb_test_preds1),\n",
    "            \"f1_score\":f1_score(y_test,nb_test_preds1)}])])\n",
    "\n",
    "print(accuracy_score(y_train1,nb_train_preds1))\n",
    "print(accuracy_score(y_test1,nb_test_preds1))\n",
    "print(f1_score(y_test1,nb_test_preds1))"
   ]
  },
  {
   "cell_type": "markdown",
   "id": "41f0cc37",
   "metadata": {},
   "source": [
    "## Trial 2: Use TruncatedSVD to reduce dimension on extracted features (Data preprocessed used the preprocessor with lemmatizer)"
   ]
  },
  {
   "cell_type": "markdown",
   "id": "12a6995b",
   "metadata": {},
   "source": [
    "Result:\n",
    "* The result from using tf-idf matrices for conducting dimension reduction is much better than using bow matrices, but generally speaking, naive bayes does not perform really well along with dimension reduction algorithm.\n",
    "* The possible reason for the bad result is that: we lose informative information in dimension reduction process, in which we only keep 100 components and drop the rest. "
   ]
  },
  {
   "cell_type": "markdown",
   "id": "2b262900",
   "metadata": {},
   "source": [
    "* There are a lot of features (words) in the input data, some of them are actually correlated with each other, and some other might be inrrelavant features. By conducting a dimension reduction on input data, we can remove the multicollinearity in input data and remove extraneous features, which might provide a better modedling result.\n",
    "* TruncateSVD performs linear dimensionality reduction by means of truncated singular value decomposition (SVD). Contrary to PCA, this estimator does not center the data before computing the singular value decomposition. This means it can work with sparse matrices efficiently.\n",
    "* text references: https://scikit-learn.org/stable/modules/generated/sklearn.decomposition.TruncatedSVD.html#sklearn.decomposition.TruncatedSVD"
   ]
  },
  {
   "cell_type": "code",
   "execution_count": 20,
   "id": "6fe4b569",
   "metadata": {},
   "outputs": [],
   "source": [
    "from sklearn.decomposition import TruncatedSVD\n",
    "from sklearn.feature_extraction.text import CountVectorizer\n",
    "vectorizer = CountVectorizer(stop_words='english')\n",
    "svd = TruncatedSVD(n_components = 100)\n",
    "\n",
    "X = df.drop(columns = 'class')\n",
    "y = df['class']\n",
    "X_train, X_test, y_train, y_test = train_test_split(X, y, random_state=20)\n",
    "\n",
    "# Retrieve a bag of words representation using counter vectorizer first\n",
    "bow_text_train = vectorizer.fit_transform(X_train['text'])\n",
    "bow_text_test = vectorizer.transform(X_test['text'])"
   ]
  },
  {
   "cell_type": "markdown",
   "id": "195b5b4e",
   "metadata": {},
   "source": [
    "### Trial 2-1: Apply truncatedSVD on bow matrix"
   ]
  },
  {
   "cell_type": "code",
   "execution_count": 21,
   "id": "61a42ad1",
   "metadata": {},
   "outputs": [],
   "source": [
    "# Initiate the TruncatedSVD model\n",
    "# According to the documentation, n_components = 100 is recommended for LSA analysis\n",
    "\n",
    "X_train2_1 = svd.fit_transform(bow_text_train) \n",
    "X_test2_1 = svd.transform(bow_text_test) \n",
    "\n",
    "# Since there are negative values in the feature matrix, whose dimension has been reduced using TruncatedSVD\n",
    "# Therefore, use MinMaxScaler to rescale the feature matrix\n",
    "from sklearn.preprocessing import MinMaxScaler\n",
    "X_train2_1 = MinMaxScaler().fit_transform(X_train2_1)\n",
    "X_test2_1 = MinMaxScaler().fit_transform(X_test2_1)"
   ]
  },
  {
   "cell_type": "code",
   "execution_count": 22,
   "id": "76fc9671",
   "metadata": {},
   "outputs": [
    {
     "name": "stdout",
     "output_type": "stream",
     "text": [
      "0.5080520525121369\n",
      "0.506765025250349\n",
      "0.03252307380235978\n"
     ]
    }
   ],
   "source": [
    "# Conduct modeling using Naive Bayes Model\n",
    "nb_classifier = MultinomialNB(alpha = .05)\n",
    "\n",
    "nb_classifier.fit(X_train2_1, y_train)\n",
    "\n",
    "nb_train_preds2_1 = nb_classifier.predict(X_train2_1)\n",
    "nb_test_preds2_1 = nb_classifier.predict(X_test2_1)\n",
    "\n",
    "res = pd.concat([res, \n",
    "         pd.DataFrame([{\"model\":\"TruncatedSVD on bow, Benchmark model\",\n",
    "            \"accuracy\":accuracy_score(y_test,nb_test_preds2_1),\n",
    "            \"f1_score\":f1_score(y_test,nb_test_preds2_1)}])])\n",
    "\n",
    "print(accuracy_score(y_train,nb_train_preds2_1))\n",
    "print(accuracy_score(y_test,nb_test_preds2_1))\n",
    "print(f1_score(y_test,nb_test_preds2_1))"
   ]
  },
  {
   "cell_type": "markdown",
   "id": "b0cd556e",
   "metadata": {},
   "source": [
    "### Trial 2-2: Apply truncatedSVD on tf-idf matrix"
   ]
  },
  {
   "cell_type": "markdown",
   "id": "4bdea84f",
   "metadata": {},
   "source": [
    "* Using truncatedSVD on tf–idf matrices is recommended over raw frequency counts in an LSA/document processing setting. In particular, sublinear scaling and inverse document frequency should be turned on (sublinear_tf=True, use_idf=True) to bring the feature values closer to a Gaussian distribution, compensating for LSA’s erroneous assumptions about textual data.\n",
    "* text references: https://scikit-learn.org/stable/modules/decomposition.html#truncated-singular-value-decomposition-and-latent-semantic-analysis"
   ]
  },
  {
   "cell_type": "code",
   "execution_count": 23,
   "id": "300efb03",
   "metadata": {},
   "outputs": [],
   "source": [
    "tfidf2_2 = TfidfVectorizer(stop_words = stopwords_list,ngram_range = (1, 2), sublinear_tf=True, use_idf=True)\n",
    "\n",
    "tfidf_text_train2_2 = tfidf2_2.fit_transform(X_train['text'])\n",
    "tfidf_text_test2_2 = tfidf2_2.transform(X_test['text'])\n",
    "\n",
    "X_train2_2 = sparse.hstack([tfidf_text_train2_2]).tocsr()\n",
    "X_test2_2 = sparse.hstack([tfidf_text_test2_2]).tocsr()"
   ]
  },
  {
   "cell_type": "code",
   "execution_count": 24,
   "id": "621276bc",
   "metadata": {},
   "outputs": [],
   "source": [
    "svd = TruncatedSVD(n_components = 100)\n",
    "X_train2_2 = svd.fit_transform(tfidf_text_train) \n",
    "X_test2_2 = svd.transform(tfidf_text_test)\n",
    "\n",
    "X_train2_2 = MinMaxScaler().fit_transform(X_train2_2)\n",
    "X_test2_2 = MinMaxScaler().fit_transform(X_test2_2)"
   ]
  },
  {
   "cell_type": "code",
   "execution_count": 25,
   "id": "3063a09c",
   "metadata": {},
   "outputs": [
    {
     "name": "stdout",
     "output_type": "stream",
     "text": [
      "0.8128580046537014\n",
      "0.8049259725262414\n",
      "0.7832631175794713\n"
     ]
    }
   ],
   "source": [
    "# Conduct modeling using Naive Bayes Model\n",
    "nb_classifier = MultinomialNB(alpha = .05)\n",
    "\n",
    "nb_classifier.fit(X_train2_2, y_train)\n",
    "\n",
    "nb_train_preds2_2 = nb_classifier.predict(X_train2_2)\n",
    "nb_test_preds2_2 = nb_classifier.predict(X_test2_2)\n",
    "\n",
    "res = pd.concat([res, \n",
    "         pd.DataFrame([{\"model\":\"TruncatedSVD on tf-idf, Benchmark model\",\n",
    "            \"accuracy\":accuracy_score(y_test,nb_test_preds2_2),\n",
    "            \"f1_score\":f1_score(y_test,nb_test_preds2_2)}])])\n",
    "\n",
    "print(accuracy_score(y_train,nb_train_preds2_2))\n",
    "print(accuracy_score(y_test,nb_test_preds2_2))\n",
    "print(f1_score(y_test,nb_test_preds2_2))"
   ]
  },
  {
   "cell_type": "markdown",
   "id": "2496204a",
   "metadata": {},
   "source": [
    "### Trial 3: Use Word2Vec For Embedding"
   ]
  },
  {
   "cell_type": "markdown",
   "id": "a5dee41c",
   "metadata": {},
   "source": [
    "Result:\n",
    "* Note: Due to the storage space limit of my laptop, only 1% of the original data is used for Word2Vec embedding and Naive Bayes Model\n",
    "* The result is worse compared with the benchmark NB model that directly takes tf-dif as the input.\n",
    "* Word2Vec highly relies on the context of the text that it is originally trained on. Here, the google-news-300 is used for training the Word2Vec model.\n",
    "* However, the context of reddit posts might not be exactly the same as google-news-300, which means that there could be semantic biases in the dimensions of word2vec. This is a possible reason that leads to the unsatisfying result in this case.\n",
    "* Another possible reason lies in the tremendous reduction in training and testing data (only 1% of the original data is used)."
   ]
  },
  {
   "cell_type": "markdown",
   "id": "e4676d22",
   "metadata": {},
   "source": [
    "* Word2Vec learns the word association from a large corpus of text. It helps represent each distinct word with a particular list of numbers (vectors), which capture the semantic and syntactic qualities of words.\n",
    "* Compared with tf-dif, Word2Vec is a more advanced word embedding techniques, which captures the linguistic contexts of words, and thus might better extract features of the original text.\n",
    "* Text reference: https://en.wikipedia.org/wiki/Word2vec\n",
    "* Word2Vec code references: https://thinkingneuron.com/how-to-classify-text-using-word2vec/"
   ]
  },
  {
   "cell_type": "code",
   "execution_count": 26,
   "id": "129d6655",
   "metadata": {},
   "outputs": [],
   "source": [
    "# Retrieve a pre-trained word2vec model based on google news data\n",
    "import gensim.downloader as api\n",
    "w2v_google_news = api.load('word2vec-google-news-300')"
   ]
  },
  {
   "cell_type": "code",
   "execution_count": 27,
   "id": "c719cdcc",
   "metadata": {},
   "outputs": [],
   "source": [
    "# My laptop doesn't have enough storage space to train a model using all of the original data :(\n",
    "# Therefore, randomly select 1% of original data for training and testing the word2vec embedded model\n",
    "# Make sure that the two classes are also balanced after randomly droppong the data\n",
    "df0 = df.loc[df['class'] == 0]\n",
    "df1 = df.loc[df['class'] == 1]\n",
    "\n",
    "X0 = df0.drop(columns = 'class')\n",
    "y0 = df0['class']\n",
    "X1 = df1.drop(columns = 'class')\n",
    "y1 = df1['class']\n",
    "\n",
    "X_train0, X_test0, y_train0, y_test0 = train_test_split(X0, y0, random_state=20, test_size = 0.01)\n",
    "X_train1, X_test1, y_train1, y_test1 = train_test_split(X1, y1, random_state=20, test_size = 0.01)\n",
    "\n",
    "X_sub = pd.concat([X_test0, X_test1])\n",
    "y_sub = pd.concat([y_test0, y_test1])"
   ]
  },
  {
   "cell_type": "code",
   "execution_count": 28,
   "id": "c42f6ba5",
   "metadata": {},
   "outputs": [],
   "source": [
    "vectorizer = CountVectorizer(stop_words='english')\n",
    "\n",
    "# Retrieve features name in the form of dataframe column name\n",
    "X_sub_bow = vectorizer.fit_transform(X_sub['text'])\n",
    "colnames = np.append(vectorizer.get_feature_names_out(), 'class')\n",
    "WordsVocab = pd.DataFrame(columns = colnames).columns[:-1]"
   ]
  },
  {
   "cell_type": "code",
   "execution_count": 29,
   "id": "ed230bcb",
   "metadata": {},
   "outputs": [],
   "source": [
    "# Converting every reddit post word into a numeric vector\n",
    "# For each word in the sentence, the numeric representation of the word will be extracted using w2v_google_news\n",
    "# The sum of numeric representations of each word in the sentence represents the numeric value of the whole sentence\n",
    "# Defining a function which takes text input and returns one vector for each sentence\n",
    "\n",
    "def FunctionText2Vec(inpTextData):\n",
    "    # Converting the text to numeric data\n",
    "    X = vectorizer.transform(inpTextData)\n",
    "    CountVecData=pd.DataFrame(X.toarray(), columns=vectorizer.get_feature_names_out())\n",
    "    \n",
    "    # Creating empty dataframe to hold sentences\n",
    "    W2Vec_Data=pd.DataFrame()\n",
    "    \n",
    "    # Looping through each row for the data\n",
    "    for i in range(CountVecData.shape[0]):\n",
    " \n",
    "        # initiating a sentence with all zeros\n",
    "        Sentence = np.zeros(300)\n",
    " \n",
    "        # Looping thru each word in the sentence and if its present in \n",
    "        # the Word2Vec model then storing its vector\n",
    "        for word in WordsVocab[CountVecData.iloc[i , :]>=1]:\n",
    "            if word in w2v_google_news.key_to_index.keys():    \n",
    "                Sentence=Sentence+w2v_google_news[word]\n",
    "        # Appending the sentence to the dataframe\n",
    "        # W2Vec_Data=W2Vec_Data.append(pd.DataFrame([Sentence]))\n",
    "        W2Vec_Data=pd.concat([W2Vec_Data, pd.DataFrame([Sentence])])\n",
    "\n",
    "    return(W2Vec_Data)"
   ]
  },
  {
   "cell_type": "code",
   "execution_count": 30,
   "id": "15a62f9b",
   "metadata": {},
   "outputs": [],
   "source": [
    "W2Vec_Data=FunctionText2Vec(X_sub['text'])\n",
    "\n",
    "# Conduct the train test split on the subset data\n",
    "X_train3, X_test3, y_train3, y_test3 = train_test_split(W2Vec_Data[W2Vec_Data.columns].values, y_sub, random_state=20)\n",
    "\n",
    "X_train3 = MinMaxScaler().fit_transform(X_train3)\n",
    "X_test3 = MinMaxScaler().fit_transform(X_test3)"
   ]
  },
  {
   "cell_type": "code",
   "execution_count": 31,
   "id": "023d6efe",
   "metadata": {},
   "outputs": [
    {
     "name": "stdout",
     "output_type": "stream",
     "text": [
      "0.7294658242389431\n",
      "0.7074010327022375\n",
      "0.5971563981042654\n"
     ]
    }
   ],
   "source": [
    "nb_classifier = MultinomialNB(alpha = .05)\n",
    "nb_classifier.fit(X_train3, y_train3)\n",
    "\n",
    "nb_train_preds3 = nb_classifier.predict(X_train3)\n",
    "nb_test_preds3 = nb_classifier.predict(X_test3)\n",
    "\n",
    "res = pd.concat([res, \n",
    "         pd.DataFrame([{\"model\":\"1% Subset data, Word2Vec, Benchmark model\",\n",
    "            \"accuracy\":accuracy_score(y_test3,nb_test_preds3),\n",
    "            \"f1_score\":f1_score(y_test3,nb_test_preds3)}])])\n",
    "\n",
    "print(accuracy_score(y_train3,nb_train_preds3))\n",
    "print(accuracy_score(y_test3,nb_test_preds3))\n",
    "print(f1_score(y_test3,nb_test_preds3))"
   ]
  },
  {
   "cell_type": "markdown",
   "id": "57a16a7c",
   "metadata": {},
   "source": [
    "## Report of Accuracy"
   ]
  },
  {
   "cell_type": "markdown",
   "id": "62d0da0a",
   "metadata": {},
   "source": [
    "* Accuracy is reported in the dataframe below\n",
    "* Benchmark Model refers to the model that use tf-idf matrix as input and MultinomialNB(alpha = .05) as model\n",
    "* There's increase in accuracy and f1_score when we alter the alpha of benchmark model to 0.03, while other tinkering methods provide worse results"
   ]
  },
  {
   "cell_type": "code",
   "execution_count": 32,
   "id": "2fadc01a",
   "metadata": {},
   "outputs": [
    {
     "data": {
      "text/html": [
       "<div>\n",
       "<style scoped>\n",
       "    .dataframe tbody tr th:only-of-type {\n",
       "        vertical-align: middle;\n",
       "    }\n",
       "\n",
       "    .dataframe tbody tr th {\n",
       "        vertical-align: top;\n",
       "    }\n",
       "\n",
       "    .dataframe thead th {\n",
       "        text-align: right;\n",
       "    }\n",
       "</style>\n",
       "<table border=\"1\" class=\"dataframe\">\n",
       "  <thead>\n",
       "    <tr style=\"text-align: right;\">\n",
       "      <th></th>\n",
       "      <th>model</th>\n",
       "      <th>accuracy</th>\n",
       "      <th>f1_score</th>\n",
       "    </tr>\n",
       "  </thead>\n",
       "  <tbody>\n",
       "    <tr>\n",
       "      <th>0</th>\n",
       "      <td>Benchmark Model</td>\n",
       "      <td>0.903463</td>\n",
       "      <td>0.910362</td>\n",
       "    </tr>\n",
       "    <tr>\n",
       "      <th>1</th>\n",
       "      <td>Benchmark Model, alpha = 0.07</td>\n",
       "      <td>0.901463</td>\n",
       "      <td>0.908804</td>\n",
       "    </tr>\n",
       "    <tr>\n",
       "      <th>2</th>\n",
       "      <td>Benchmark Model, alpha = 0.03</td>\n",
       "      <td>0.903980</td>\n",
       "      <td>0.910757</td>\n",
       "    </tr>\n",
       "    <tr>\n",
       "      <th>3</th>\n",
       "      <td>Benchmark Model, alpha = 0.01</td>\n",
       "      <td>0.897551</td>\n",
       "      <td>0.905408</td>\n",
       "    </tr>\n",
       "    <tr>\n",
       "      <th>4</th>\n",
       "      <td>Stemming, Benchmark model</td>\n",
       "      <td>0.903532</td>\n",
       "      <td>0.910352</td>\n",
       "    </tr>\n",
       "    <tr>\n",
       "      <th>5</th>\n",
       "      <td>TruncatedSVD on bow, Benchmark model</td>\n",
       "      <td>0.506765</td>\n",
       "      <td>0.032523</td>\n",
       "    </tr>\n",
       "    <tr>\n",
       "      <th>6</th>\n",
       "      <td>TruncatedSVD on tf-idf, Benchmark model</td>\n",
       "      <td>0.804926</td>\n",
       "      <td>0.783263</td>\n",
       "    </tr>\n",
       "    <tr>\n",
       "      <th>7</th>\n",
       "      <td>1% Subset data, Word2Vec, Benchmark model</td>\n",
       "      <td>0.707401</td>\n",
       "      <td>0.597156</td>\n",
       "    </tr>\n",
       "  </tbody>\n",
       "</table>\n",
       "</div>"
      ],
      "text/plain": [
       "                                       model  accuracy  f1_score\n",
       "0                            Benchmark Model  0.903463  0.910362\n",
       "1              Benchmark Model, alpha = 0.07  0.901463  0.908804\n",
       "2              Benchmark Model, alpha = 0.03  0.903980  0.910757\n",
       "3              Benchmark Model, alpha = 0.01  0.897551  0.905408\n",
       "4                  Stemming, Benchmark model  0.903532  0.910352\n",
       "5       TruncatedSVD on bow, Benchmark model  0.506765  0.032523\n",
       "6    TruncatedSVD on tf-idf, Benchmark model  0.804926  0.783263\n",
       "7  1% Subset data, Word2Vec, Benchmark model  0.707401  0.597156"
      ]
     },
     "execution_count": 32,
     "metadata": {},
     "output_type": "execute_result"
    }
   ],
   "source": [
    "res = res.reset_index(drop = True)\n",
    "res"
   ]
  },
  {
   "cell_type": "markdown",
   "id": "10b0c72b",
   "metadata": {},
   "source": [
    "## Challenges"
   ]
  },
  {
   "cell_type": "markdown",
   "id": "08f6956a",
   "metadata": {},
   "source": [
    "* One challenge is related to the model. At very first I have the idea of trying out a dimension reduction technique on the input matrices. We've learned PCA in this semester, but it is not really applicable for the text data here. Therefore I searched online and learned about the Truncated SVD method, which uses similar idea of singular vector decomposition as PCA, but more applicable to text data, and is oftentimes used for semantic analysis. I learned the basic idea of the model and successfully applied it in my model. BUT I'm not really sure if it is a good idea to combine the dimension reduction techniques along with Naive Bayes model, future study is absolutely needed to fully understand the mathmatical logic and compatiability of these two models. \n",
    "* Another challenge I ran into was related to my data. The text data sometimes get extremely large that my laptop cannot handle it at all. For example, I tried to use the full data in Word2Vec section, but it takes around 200 GB to store the result! Therefore I only used a tiny subset of the text data to construct the whole model. Similar issue arises when I tried to keep more components in the Truncated SVD section. This issue was temporarily solved as I limited the scope to explore. Hopefully, I will get to run the full dataset on some much powerful machine and test some of my hypothesis. "
   ]
  },
  {
   "cell_type": "markdown",
   "id": "ea86f5ce",
   "metadata": {},
   "source": [
    "## Impacts"
   ]
  },
  {
   "cell_type": "markdown",
   "id": "6eace22a",
   "metadata": {},
   "source": [
    "* Benefit 1: This model has positive social influences: If the input data is valid, this model can really help identify users with suicide tendancy on the social platform, and we can help these people get out of the idea of committing a suicide through some positive interference.\n",
    "* Benefit 2: This model has potential economic influences as well: It can help create a more supportive environment on reddit, which, could potentially drive more users towards this platform.\n",
    "* Harm1: The biggest concern of the model: the data source did not clearly specify how the suicide and non-suicide classes are classfied. If there's significant issue in the identifictaion of classes, the whole model will become \"garbage in, garbage out\".\n",
    "* Harm2: Data Privacy issues are presented in this dataset, as we could reverse engineer who created these posts."
   ]
  },
  {
   "cell_type": "markdown",
   "id": "2fdbd01e",
   "metadata": {},
   "source": [
    "## Future Works"
   ]
  },
  {
   "cell_type": "markdown",
   "id": "c046ed62",
   "metadata": {},
   "source": [
    "* Research Question: How can we further classify the suicide posts identified into different categoriees, so that we can have targetted help/ interference for these people?\n",
    "* Importance: Posts related to suicide contains important informtion, for example, why they want to commit a suicide, where they are, how they attempt to kill themselves. By answering these questions and classify the suicide related post into different categories, we might porvide better help for these people. "
   ]
  }
 ],
 "metadata": {
  "kernelspec": {
   "display_name": "Python 3 (ipykernel)",
   "language": "python",
   "name": "python3"
  },
  "language_info": {
   "codemirror_mode": {
    "name": "ipython",
    "version": 3
   },
   "file_extension": ".py",
   "mimetype": "text/x-python",
   "name": "python",
   "nbconvert_exporter": "python",
   "pygments_lexer": "ipython3",
   "version": "3.9.13"
  }
 },
 "nbformat": 4,
 "nbformat_minor": 5
}
